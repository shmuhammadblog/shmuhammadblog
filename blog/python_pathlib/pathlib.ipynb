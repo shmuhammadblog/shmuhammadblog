{
 "cells": [
  {
   "cell_type": "raw",
   "metadata": {},
   "source": [
    "---\n",
    "title: \"PathLib: Yet Another Python file and directory managament\"\n",
    "format: \n",
    "  html:\n",
    "    code-fold: false\n",
    "jupyter: python3\n",
    "categories:   \n",
    "  - python\n",
    "description: \"It discussed how deep learning changes our approach to machine learning and why PyTorch is a good fit for deep learning\"\n",
    "image: pathlib.png\n",
    "date: \"2022-12-18\"\n",
    "draft: false\n",
    "---\n"
   ]
  },
  {
   "attachments": {},
   "cell_type": "markdown",
   "metadata": {},
   "source": [
    "## PathLib: A path management library called Pathlib. "
   ]
  },
  {
   "attachments": {},
   "cell_type": "markdown",
   "metadata": {},
   "source": [
    "- Why You Should Start Using Pathlib as an Alternative to the OS Module\n"
   ]
  },
  {
   "attachments": {},
   "cell_type": "markdown",
   "metadata": {},
   "source": [
    "- Pathlib is a module in the Python standard library that provides classes for working with file and directory paths. \n",
    "\n",
    "- It is designed to be more intuitive and easier to use than the traditional `os.path` module, which is based on string manipulation and can be error-prone.\n",
    "\n",
    "- The Path class in pathlib represents a `file` or `directory path` and offers a convenient way to perform various operations on paths, such as reading and writing files, traversing directories, and checking the existence of files and directories.\n",
    "\n",
    "- Below is an example of using pathlib to read a file and print its contents: \n",
    "\n",
    "\n",
    "\n",
    "\n",
    "\n",
    "\n",
    "\n",
    " "
   ]
  },
  {
   "cell_type": "code",
   "execution_count": 6,
   "metadata": {},
   "outputs": [
    {
     "name": "stdout",
     "output_type": "stream",
     "text": [
      "hey i love this car\n",
      "hey i love this bike\n",
      "hey i love this bicycle\n",
      "\n"
     ]
    }
   ],
   "source": [
    "from pathlib import Path\n",
    "\n",
    "# Open the file in read-only mode\n",
    "path_name  =  'file.txt' # i am in the same directory as the file\n",
    "file_path = Path(path_name)\n",
    "with file_path.open(mode='r') as f:\n",
    "    # Read the contents of the file\n",
    "    contents = f.read()\n",
    "\n",
    "# Print the contents of the file\n",
    "print(contents)"
   ]
  },
  {
   "attachments": {},
   "cell_type": "markdown",
   "metadata": {},
   "source": [
    "## Join path with pathlib\n",
    "\n",
    "- The `joinpath()` method is used to join one or more path components to the end of the path.\n",
    "\n",
    "- The `joinpath()` method returns a new path object that is the concatenation of the path and the path components passed as arguments.`\n",
    "\n",
    "- The `joinpath()` method is similar to the `os.path.join()` function.\n",
    "\n",
    "- An example of using the `joinpath()` method to join two path components to the end of the path:\n",
    "\n"
   ]
  },
  {
   "cell_type": "code",
   "execution_count": null,
   "metadata": {},
   "outputs": [],
   "source": [
    "from pathlib import Path\n",
    "\n",
    "path = Path('/home')\n",
    "\n",
    "path = path.joinpath('user', 'file.txt')\n",
    "\n",
    "print(path)\n",
    "\n",
    "```\n",
    "\n",
    "- The output of the above program is:\n",
    "\n",
    "```python\n",
    "\n",
    "/home/user/file.txt\n",
    "\n",
    "```\n",
    "\n",
    "- The `joinpath()` method can also be used to join a string to the end of the path:\n",
    "\n",
    "```python \n",
    "\n",
    "from pathlib import Path\n",
    "\n",
    "path = Path('/home')\n",
    "\n",
    "path = path.joinpath('user/file.txt')\n",
    "\n",
    "print(path)\n",
    "\n",
    "```"
   ]
  },
  {
   "attachments": {},
   "cell_type": "markdown",
   "metadata": {},
   "source": [
    "Pathlib is part of the standard Python library and has been introduced since Python 3.4 (see PEP 428) with the goal of representing paths not as simple strings but as supercharged Python objects with many useful methods and attributes under the hood.\n",
    "\n",
    "- \n",
    "- "
   ]
  },
  {
   "attachments": {},
   "cell_type": "markdown",
   "metadata": {},
   "source": [
    "![](2022-12-18-19-31-26.png)"
   ]
  }
 ],
 "metadata": {
  "kernelspec": {
   "display_name": "datascience",
   "language": "python",
   "name": "python3"
  },
  "language_info": {
   "codemirror_mode": {
    "name": "ipython",
    "version": 3
   },
   "file_extension": ".py",
   "mimetype": "text/x-python",
   "name": "python",
   "nbconvert_exporter": "python",
   "pygments_lexer": "ipython3",
   "version": "3.9.13"
  },
  "orig_nbformat": 4,
  "vscode": {
   "interpreter": {
    "hash": "f6f6bd4cc3c48269a815f65a204a5f5d311d52370c5b2dcbc9202c6267080e31"
   }
  }
 },
 "nbformat": 4,
 "nbformat_minor": 2
}
