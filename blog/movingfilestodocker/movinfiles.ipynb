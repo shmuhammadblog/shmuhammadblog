{
 "cells": [
  {
   "cell_type": "raw",
   "metadata": {},
   "source": [
    "---\n",
    "title: \"Copying files to and from a docker containers\"\n",
    "format: \n",
    "  html:\n",
    "    code-fold: false\n",
    "categories:   \n",
    "  - data science\n",
    "  - unix\n",
    "description: \" This blog explain how to copy files from host to docker container and vice versa. \"\n",
    "image: docker.png\n",
    "date: \"2022-06-01\"\n",
    "draft: false\n",
    "---"
   ]
  },
  {
   "cell_type": "markdown",
   "metadata": {},
   "source": [
    "## Copying files to and from docker container to a host\n",
    "\n",
    "You can use the `docker cp` command to copy files from the host to the container or vice versa.\n",
    "\n",
    "### Copy files from the host to the container\n",
    "\n",
    "The syntax for copying file from host to container is \n",
    "\n",
    "```bash\n",
    "docker cp [source] [container:]destination`.\n",
    "\n",
    "```\n",
    "The example below show how to copy a file (dataset_on_host.csv) from the host to a container folder called data. We saved the file with a new name (dataset_on_container.csv) in the container folder.\n",
    "\n",
    "\n",
    "![](./host_to_docker.png)"
   ]
  },
  {
   "cell_type": "markdown",
   "metadata": {},
   "source": [
    "\n",
    "\n",
    "### Copy files from the container to the host\n",
    "\n",
    "The syntax for copying file from container to host is:\n",
    "\n",
    "```bash\n",
    "docker cp [container:]source [destination]\n",
    "    \n",
    "```\n",
    "The example below also show how a file  from a container is copied to the host.\n",
    "\n",
    "\n",
    "![](./dockertolocal.png)\n"
   ]
  },
  {
   "cell_type": "markdown",
   "metadata": {},
   "source": [
    "Thank you for reading."
   ]
  }
 ],
 "metadata": {
  "interpreter": {
   "hash": "895aa688263384567493505d09875376e7685297a6922210da729f70c5caa3cf"
  },
  "kernelspec": {
   "display_name": "Python 3.9.12 ('datascience')",
   "language": "python",
   "name": "python3"
  },
  "language_info": {
   "codemirror_mode": {
    "name": "ipython",
    "version": 3
   },
   "file_extension": ".py",
   "mimetype": "text/x-python",
   "name": "python",
   "nbconvert_exporter": "python",
   "pygments_lexer": "ipython3",
   "version": "3.9.12"
  },
  "orig_nbformat": 4
 },
 "nbformat": 4,
 "nbformat_minor": 2
}
